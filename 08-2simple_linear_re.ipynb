{
 "cells": [
  {
   "cell_type": "markdown",
   "metadata": {
    "collapsed": true
   },
   "source": [
    "线性回归的简洁实现"
   ]
  },
  {
   "cell_type": "code",
   "execution_count": 1,
   "metadata": {},
   "outputs": [],
   "source": [
    "import numpy as np\n",
    "import torch\n",
    "from torch.utils import data  # 有一些处理数据的模块\n",
    "from d2l import torch as d2l\n",
    "\n",
    "true_w = torch.tensor([2, -3.4])\n",
    "true_b = 4.2\n",
    "features, labels = d2l.synthetic_data(true_w, true_b, 1000)  # 人工数据合成函数"
   ]
  },
  {
   "cell_type": "markdown",
   "metadata": {},
   "source": [
    "调用框架中现有的API来读取数据"
   ]
  },
  {
   "cell_type": "code",
   "execution_count": 2,
   "metadata": {},
   "outputs": [
    {
     "data": {
      "text/plain": "[tensor([[ 0.6526, -1.1515],\n         [ 1.0541,  0.2293],\n         [-0.9705, -0.5926],\n         [-2.1367,  0.5951],\n         [-0.0494,  1.7532],\n         [ 0.2263, -1.1444],\n         [ 0.7915,  1.0854],\n         [-1.1328, -1.6037],\n         [-0.6059,  0.9304],\n         [ 2.1690,  1.7730]]),\n tensor([[ 9.4121],\n         [ 5.5361],\n         [ 4.2775],\n         [-2.0878],\n         [-1.8522],\n         [ 8.5488],\n         [ 2.1074],\n         [ 7.3971],\n         [-0.1621],\n         [ 2.5024]])]"
     },
     "execution_count": 2,
     "metadata": {},
     "output_type": "execute_result"
    }
   ],
   "source": [
    "def load_array(data_arrays, batch_size, is_train=True):\n",
    "    # 构造一个Pytorch数据迭代器\n",
    "    dataset = data.TensorDataset(*data_arrays)\n",
    "    return data.DataLoader(dataset, batch_size, shuffle=is_train)  # 每次随机挑选batch_size个样本出来，shuffle是看是否随机打乱\n",
    "\n",
    "\n",
    "batch_size = 10\n",
    "data_iter = load_array((features, labels), batch_size)  # 数据量太大的话load data要考虑内存占用率的问题\n",
    "\n",
    "next(iter(data_iter))"
   ]
  },
  {
   "cell_type": "markdown",
   "metadata": {},
   "source": [
    "使用框架预定义好的层"
   ]
  },
  {
   "cell_type": "code",
   "execution_count": 3,
   "metadata": {},
   "outputs": [],
   "source": [
    "from torch import nn  # nn是神经网络的缩写\n",
    "\n",
    "# nn.Sequential是一个有序的容器，神经网络模块将按照在传入构造器的顺序一次被添加到计算图中执行\n",
    "net = nn.Sequential(nn.Linear(2, 1))  # 此处线性层输入的维度是2.输出的维度是1"
   ]
  },
  {
   "cell_type": "markdown",
   "metadata": {},
   "source": [
    "初始化模型参数"
   ]
  },
  {
   "cell_type": "code",
   "execution_count": 4,
   "metadata": {},
   "outputs": [
    {
     "data": {
      "text/plain": "tensor([0.])"
     },
     "execution_count": 4,
     "metadata": {},
     "output_type": "execute_result"
    }
   ],
   "source": [
    "net[0].weight.data.normal_(0, 0.01)  # normal_就是使用正态分布（均值为0，标准差为0.01）替换data的值\n",
    "net[0].bias.data.fill_(0)  # 偏差直接设为0"
   ]
  },
  {
   "cell_type": "markdown",
   "metadata": {},
   "source": [
    "计算均方误差使用的是MSELoss类，也称为平方${l_2}$范数"
   ]
  },
  {
   "cell_type": "code",
   "execution_count": 5,
   "metadata": {},
   "outputs": [],
   "source": [
    "loss = nn.MSELoss()"
   ]
  },
  {
   "cell_type": "markdown",
   "metadata": {},
   "source": [
    "实例化SGD实例"
   ]
  },
  {
   "cell_type": "code",
   "execution_count": 6,
   "metadata": {},
   "outputs": [],
   "source": [
    "trainer = torch.optim.SGD(net.parameters(), lr=0.03)  # 至少传入两个参数，第一个参数是模型中的所有参数"
   ]
  },
  {
   "cell_type": "markdown",
   "metadata": {},
   "source": [
    "训练过程代码"
   ]
  },
  {
   "cell_type": "code",
   "execution_count": 7,
   "metadata": {},
   "outputs": [
    {
     "name": "stdout",
     "output_type": "stream",
     "text": [
      "epoch 1, loss 0.000219\n",
      "epoch 2, loss 0.000104\n",
      "epoch 3, loss 0.000103\n"
     ]
    }
   ],
   "source": [
    "num_epochs = 3\n",
    "for epoch in range(num_epochs):\n",
    "    for X, y in data_iter:  # 每次拿出mini batch\n",
    "        l = loss(net(X), y)  # net自带模型参数\n",
    "        trainer.zero_grad()  # 先进行梯度清零\n",
    "        l.backward()  # pytorch已经做了sum，不需要自己再做\n",
    "        trainer.step()  # 调用step函数进行参数更新\n",
    "    l = loss(net(features), labels)\n",
    "    print(f'epoch {epoch + 1}, loss {l:f}')"
   ]
  },
  {
   "cell_type": "code",
   "execution_count": 7,
   "metadata": {},
   "outputs": [],
   "source": []
  }
 ],
 "metadata": {
  "kernelspec": {
   "display_name": "Python 3 (ipykernel)",
   "language": "python",
   "name": "python3"
  },
  "language_info": {
   "codemirror_mode": {
    "name": "ipython",
    "version": 3
   },
   "file_extension": ".py",
   "mimetype": "text/x-python",
   "name": "python",
   "nbconvert_exporter": "python",
   "pygments_lexer": "ipython3",
   "version": "3.9.7"
  }
 },
 "nbformat": 4,
 "nbformat_minor": 1
}
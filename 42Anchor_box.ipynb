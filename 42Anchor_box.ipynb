{
 "cells": [
  {
   "cell_type": "code",
   "execution_count": 2,
   "metadata": {},
   "outputs": [],
   "source": [
    "%matplotlib inline\n",
    "import torch\n",
    "from d2l import torch as d2l\n",
    "\n",
    "torch.set_printoptions(2)  # 简洁输出精度"
   ]
  },
  {
   "cell_type": "markdown",
   "metadata": {},
   "source": [
    "锚框的宽度和高度分别是${\\omega s \\sqrt(r)}$和${hs \\sqrt(r)}$。\n",
    "只考虑组合：\n",
    "(s1, r1), (s1, r2), ..., (s1, rm), (s2, r1),..., (sn, r1)"
   ]
  },
  {
   "cell_type": "code",
   "execution_count": null,
   "metadata": {},
   "outputs": [],
   "source": [
    "def multibox_prior(data, sizes, ratios):\n",
    "    # 生成以每个像素为中心，具有不同缩放比和宽高比的锚框\n",
    "    in_height, in_width = data.shape[-1:]\n",
    "    device, num_sizes, num_ratios = data.device, len(), len()"
   ]
  }
 ],
 "metadata": {
  "kernelspec": {
   "display_name": "Python 3 (ipykernel)",
   "language": "python",
   "name": "python3"
  },
  "language_info": {
   "codemirror_mode": {
    "name": "ipython",
    "version": 3
   },
   "file_extension": ".py",
   "mimetype": "text/x-python",
   "name": "python",
   "nbconvert_exporter": "python",
   "pygments_lexer": "ipython3",
   "version": "3.9.7"
  }
 },
 "nbformat": 4,
 "nbformat_minor": 1
}